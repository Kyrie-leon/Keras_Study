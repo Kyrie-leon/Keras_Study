{
 "cells": [
  {
   "cell_type": "code",
   "execution_count": 1,
   "metadata": {},
   "outputs": [],
   "source": []
  },
  {
   "cell_type": "code",
   "execution_count": 10,
   "metadata": {},
   "outputs": [],
   "source": [
    "from keras.datasets import mnist\n",
    "(train_images, train_labels), (test_images, test_labels) = mnist.load_data()"
   ]
  },
  {
   "cell_type": "code",
   "execution_count": 20,
   "metadata": {},
   "outputs": [
    {
     "data": {
      "text/plain": [
       "(60000, 28, 28)"
      ]
     },
     "execution_count": 20,
     "metadata": {},
     "output_type": "execute_result"
    }
   ],
   "source": [
    "train_images.shape"
   ]
  },
  {
   "cell_type": "code",
   "execution_count": 20,
   "metadata": {
    "scrolled": true
   },
   "outputs": [
    {
     "data": {
      "text/plain": [
       "(60000, 28, 28)"
      ]
     },
     "execution_count": 20,
     "metadata": {},
     "output_type": "execute_result"
    }
   ],
   "source": [
    "train_images.shape"
   ]
  },
  {
   "cell_type": "code",
   "execution_count": 13,
   "metadata": {},
   "outputs": [
    {
     "data": {
      "text/plain": [
       "60000"
      ]
     },
     "execution_count": 13,
     "metadata": {},
     "output_type": "execute_result"
    }
   ],
   "source": [
    "len(train_labels)"
   ]
  },
  {
   "cell_type": "code",
   "execution_count": 14,
   "metadata": {},
   "outputs": [
    {
     "data": {
      "text/plain": [
       "(10000, 28, 28)"
      ]
     },
     "execution_count": 14,
     "metadata": {},
     "output_type": "execute_result"
    }
   ],
   "source": [
    "test_images.shape"
   ]
  },
  {
   "cell_type": "code",
   "execution_count": 15,
   "metadata": {},
   "outputs": [
    {
     "data": {
      "text/plain": [
       "10000"
      ]
     },
     "execution_count": 15,
     "metadata": {},
     "output_type": "execute_result"
    }
   ],
   "source": [
    "len(test_labels)"
   ]
  },
  {
   "cell_type": "code",
   "execution_count": 17,
   "metadata": {},
   "outputs": [
    {
     "data": {
      "text/plain": [
       "array([7, 2, 1, ..., 4, 5, 6], dtype=uint8)"
      ]
     },
     "execution_count": 17,
     "metadata": {},
     "output_type": "execute_result"
    }
   ],
   "source": [
    "test_labels"
   ]
  },
  {
   "cell_type": "code",
   "execution_count": 16,
   "metadata": {},
   "outputs": [
    {
     "data": {
      "image/png": "[encoded data removed]",
      "text/plain": [
       "<Figure size 432x288 with 1 Axes>"
      ]
     },
     "metadata": {
      "needs_background": "light"
     },
     "output_type": "display_data"
    }
   ],
   "source": [
    "import matplotlib.pyplot as plt\n",
    "digit = train_images[4]\n",
    "plt.imshow(digit, cmap = plt.cm.binary)\n",
    "plt.show()"
   ]
  },
  {
   "cell_type": "code",
   "execution_count": 19,
   "metadata": {},
   "outputs": [
    {
     "name": "stdout",
     "output_type": "stream",
     "text": [
      "WARNING:tensorflow:From d:\\anaconda\\envs\\pytorch\\lib\\site-packages\\tensorflow\\python\\framework\\op_def_library.py:263: colocate_with (from tensorflow.python.framework.ops) is deprecated and will be removed in a future version.\n",
      "Instructions for updating:\n",
      "Colocations handled automatically by placer.\n"
     ]
    }
   ],
   "source": [
    "from keras import models\n",
    "from keras import layers\n",
    "\n",
    "network = models.Sequential()\n",
    "network.add(layers.Dense(512, activation='relu', input_shape=(28*28,)))\n",
    "network.add(layers.Dense(10, activation='softmax'))"
   ]
  },
  {
   "cell_type": "code",
   "execution_count": 23,
   "metadata": {},
   "outputs": [],
   "source": [
    "network.compile(optimizer = 'rmsprop',\n",
    "               loss = 'categorical_crossentropy',\n",
    "               metrics = ['accuracy'])\n"
   ]
  },
  {
   "cell_type": "code",
   "execution_count": 24,
   "metadata": {},
   "outputs": [],
   "source": [
    "train_images = train_images.reshape((60000, 28*28))\n",
    "train_images.astype('float32') / 255\n",
    "\n",
    "test_images = test_images.reshape((10000, 28*28))\n",
    "test_images = test_images.astype('float32') / 255"
   ]
  },
  {
   "cell_type": "code",
   "execution_count": 25,
   "metadata": {},
   "outputs": [],
   "source": [
    "from keras.utils import to_categorical\n",
    "\n",
    "train_labels = to_categorical(train_labels)\n",
    "test_labels = to_categorical(test_labels)"
   ]
  },
  {
   "cell_type": "code",
   "execution_count": 29,
   "metadata": {
    "scrolled": false
   },
   "outputs": [
    {
     "name": "stdout",
     "output_type": "stream",
     "text": [
      "Epoch 1/50\n",
      "60000/60000 [==============================] - 8s 129us/step - loss: 5.4014 - acc: 0.6646\n",
      "Epoch 2/50\n",
      "60000/60000 [==============================] - 7s 124us/step - loss: 5.2862 - acc: 0.6715\n",
      "Epoch 3/50\n",
      "60000/60000 [==============================] - 8s 136us/step - loss: 4.3430 - acc: 0.7296\n",
      "Epoch 4/50\n",
      "60000/60000 [==============================] - 8s 142us/step - loss: 4.1490 - acc: 0.7418\n",
      "Epoch 5/50\n",
      "60000/60000 [==============================] - 8s 137us/step - loss: 4.1074 - acc: 0.7445\n",
      "Epoch 6/50\n",
      "60000/60000 [==============================] - 8s 125us/step - loss: 4.0470 - acc: 0.7485 2s - loss: 4.0090\n",
      "Epoch 7/50\n",
      "60000/60000 [==============================] - 8s 134us/step - loss: 4.0523 - acc: 0.7480\n",
      "Epoch 8/50\n",
      "60000/60000 [==============================] - 8s 132us/step - loss: 4.1052 - acc: 0.7449 0s - loss: 4.116\n",
      "Epoch 9/50\n",
      "60000/60000 [==============================] - 8s 137us/step - loss: 4.0714 - acc: 0.7469\n",
      "Epoch 10/50\n",
      "60000/60000 [==============================] - 8s 127us/step - loss: 4.0007 - acc: 0.7514\n",
      "Epoch 11/50\n",
      "60000/60000 [==============================] - 7s 125us/step - loss: 3.9785 - acc: 0.7526 0s - loss: 3.9754 - acc: 0.75\n",
      "Epoch 12/50\n",
      "60000/60000 [==============================] - 8s 131us/step - loss: 3.9653 - acc: 0.7536\n",
      "Epoch 13/50\n",
      "60000/60000 [==============================] - 8s 128us/step - loss: 4.0012 - acc: 0.7513\n",
      "Epoch 14/50\n",
      "60000/60000 [==============================] - 8s 127us/step - loss: 3.9772 - acc: 0.7529\n",
      "Epoch 15/50\n",
      "60000/60000 [==============================] - 8s 127us/step - loss: 3.9335 - acc: 0.7554\n",
      "Epoch 16/50\n",
      "60000/60000 [==============================] - 7s 121us/step - loss: 3.9663 - acc: 0.7534\n",
      "Epoch 17/50\n",
      "60000/60000 [==============================] - 8s 130us/step - loss: 3.9378 - acc: 0.7553\n",
      "Epoch 18/50\n",
      "60000/60000 [==============================] - 8s 131us/step - loss: 3.9580 - acc: 0.7539\n",
      "Epoch 19/50\n",
      "60000/60000 [==============================] - 7s 122us/step - loss: 3.9284 - acc: 0.7559 0s - loss: 3.9\n",
      "Epoch 20/50\n",
      "60000/60000 [==============================] - 8s 126us/step - loss: 3.9850 - acc: 0.7523\n",
      "Epoch 21/50\n",
      "60000/60000 [==============================] - 8s 128us/step - loss: 3.9470 - acc: 0.7548\n",
      "Epoch 22/50\n",
      "60000/60000 [==============================] - 8s 129us/step - loss: 3.9051 - acc: 0.7573 0s - loss: 3.9035\n",
      "Epoch 23/50\n",
      "60000/60000 [==============================] - 8s 126us/step - loss: 3.9052 - acc: 0.7573 1s - loss: 3.8963 - a - ETA: 1s - loss: 3. - ETA: 0s - loss: 3.9066 - acc: 0.757\n",
      "Epoch 24/50\n",
      "60000/60000 [==============================] - 8s 137us/step - loss: 3.9424 - acc: 0.7550\n",
      "Epoch 25/50\n",
      "60000/60000 [==============================] - 8s 128us/step - loss: 3.9627 - acc: 0.7537\n",
      "Epoch 26/50\n",
      "60000/60000 [==============================] - 7s 121us/step - loss: 3.9213 - acc: 0.7564\n",
      "Epoch 27/50\n",
      "60000/60000 [==============================] - 7s 113us/step - loss: 3.9078 - acc: 0.7571\n",
      "Epoch 28/50\n",
      "60000/60000 [==============================] - 8s 127us/step - loss: 3.8828 - acc: 0.7587\n",
      "Epoch 29/50\n",
      "60000/60000 [==============================] - 8s 126us/step - loss: 3.8877 - acc: 0.7586\n",
      "Epoch 30/50\n",
      "60000/60000 [==============================] - 8s 127us/step - loss: 3.9037 - acc: 0.7574 3s - loss: - ETA: \n",
      "Epoch 31/50\n",
      "60000/60000 [==============================] - 8s 126us/step - loss: 3.8818 - acc: 0.7589\n",
      "Epoch 32/50\n",
      "60000/60000 [==============================] - 7s 125us/step - loss: 3.8822 - acc: 0.7587 1\n",
      "Epoch 33/50\n",
      "60000/60000 [==============================] - 7s 123us/step - loss: 3.8887 - acc: 0.7585\n",
      "Epoch 34/50\n",
      "60000/60000 [==============================] - 8s 127us/step - loss: 3.8546 - acc: 0.7605\n",
      "Epoch 35/50\n",
      "60000/60000 [==============================] - 7s 125us/step - loss: 3.8829 - acc: 0.7588\n",
      "Epoch 36/50\n",
      "60000/60000 [==============================] - 7s 123us/step - loss: 3.8619 - acc: 0.7601\n",
      "Epoch 37/50\n",
      "60000/60000 [==============================] - 7s 122us/step - loss: 3.8539 - acc: 0.7606\n",
      "Epoch 38/50\n",
      "60000/60000 [==============================] - 8s 131us/step - loss: 3.8382 - acc: 0.7615\n",
      "Epoch 39/50\n",
      "60000/60000 [==============================] - 8s 137us/step - loss: 3.8457 - acc: 0.7611ETA: 0s - loss: 3.830\n",
      "Epoch 40/50\n",
      "60000/60000 [==============================] - 9s 142us/step - loss: 3.8598 - acc: 0.7602 1\n",
      "Epoch 41/50\n",
      "60000/60000 [==============================] - 9s 144us/step - loss: 3.8817 - acc: 0.7588\n",
      "Epoch 42/50\n",
      "60000/60000 [==============================] - 8s 134us/step - loss: 3.8519 - acc: 0.7608 1s - loss: 3\n",
      "Epoch 43/50\n",
      "60000/60000 [==============================] - 8s 134us/step - loss: 3.8402 - acc: 0.7615\n",
      "Epoch 44/50\n",
      "60000/60000 [==============================] - 8s 139us/step - loss: 3.8468 - acc: 0.7610\n",
      "Epoch 45/50\n",
      "60000/60000 [==============================] - 8s 137us/step - loss: 3.8102 - acc: 0.7633 0s - loss: 3.8086 - acc: 0.763\n",
      "Epoch 46/50\n",
      "60000/60000 [==============================] - 8s 136us/step - loss: 3.8200 - acc: 0.7628\n",
      "Epoch 47/50\n",
      "60000/60000 [==============================] - 8s 128us/step - loss: 3.8208 - acc: 0.7626 2s - loss: 3.8133 - acc - ETA: 1s \n",
      "Epoch 48/50\n",
      "60000/60000 [==============================] - 8s 138us/step - loss: 3.8359 - acc: 0.7617 1s \n",
      "Epoch 49/50\n",
      "60000/60000 [==============================] - 8s 139us/step - loss: 3.8235 - acc: 0.7626 2s - loss: 3.8167  - ETA: 1s - l\n",
      "Epoch 50/50\n",
      "60000/60000 [==============================] - 8s 133us/step - loss: 3.8392 - acc: 0.7614\n"
     ]
    },
    {
     "data": {
      "text/plain": [
       "<keras.callbacks.History at 0x260b0631fd0>"
      ]
     },
     "execution_count": 29,
     "metadata": {},
     "output_type": "execute_result"
    }
   ],
   "source": [
    "network.fit(train_images, train_labels, epochs = 50, batch_size = 128)\n"
   ]
  },
  {
   "cell_type": "code",
   "execution_count": 31,
   "metadata": {},
   "outputs": [
    {
     "name": "stdout",
     "output_type": "stream",
     "text": [
      "10000/10000 [==============================] - 1s 83us/step\n",
      "test_acc: 0.7564\n"
     ]
    }
   ],
   "source": [
    "test_loss, test_acc = network.evaluate(test_images, test_labels)\n",
    "print('test_acc:', test_acc)"
   ]
  },
  {
   "cell_type": "code",
   "execution_count": 32,
   "metadata": {},
   "outputs": [
    {
     "name": "stdout",
     "output_type": "stream",
     "text": [
      "Epoch 1/50\n",
      "60000/60000 [==============================] - 7s 114us/step - loss: 11.3647 - acc: 0.2940\n",
      "Epoch 2/50\n",
      "60000/60000 [==============================] - 8s 134us/step - loss: 10.5533 - acc: 0.3445\n",
      "Epoch 3/50\n",
      "60000/60000 [==============================] - 8s 133us/step - loss: 10.3851 - acc: 0.3552\n",
      "Epoch 4/50\n",
      "60000/60000 [==============================] - 8s 137us/step - loss: 10.2806 - acc: 0.36180s - loss: 10.2789\n",
      "Epoch 5/50\n",
      "60000/60000 [==============================] - 8s 133us/step - loss: 10.2927 - acc: 0.3611\n",
      "Epoch 6/50\n",
      "60000/60000 [==============================] - 8s 138us/step - loss: 10.2540 - acc: 0.3635\n",
      "Epoch 7/50\n",
      "60000/60000 [==============================] - 8s 134us/step - loss: 10.2436 - acc: 0.3642\n",
      "Epoch 8/50\n",
      "60000/60000 [==============================] - 7s 124us/step - loss: 10.2199 - acc: 0.3657\n",
      "Epoch 9/50\n",
      "60000/60000 [==============================] - 8s 128us/step - loss: 8.9824 - acc: 0.4423\n",
      "Epoch 10/50\n",
      "60000/60000 [==============================] - 8s 129us/step - loss: 8.4282 - acc: 0.4767 0s - loss: 8.454\n",
      "Epoch 11/50\n",
      "60000/60000 [==============================] - 8s 134us/step - loss: 8.3824 - acc: 0.4795 - ETA: 2s - - ETA: 0s - loss: 8.3982 - acc: 0. - ETA: 0s - loss: 8.3879 - ac\n",
      "Epoch 12/50\n",
      "60000/60000 [==============================] - 8s 132us/step - loss: 8.3715 - acc: 0.4802\n",
      "Epoch 13/50\n",
      "60000/60000 [==============================] - 8s 133us/step - loss: 8.3498 - acc: 0.4816\n",
      "Epoch 14/50\n",
      "60000/60000 [==============================] - 7s 118us/step - loss: 8.3500 - acc: 0.4818\n",
      "Epoch 15/50\n",
      "60000/60000 [==============================] - 7s 114us/step - loss: 8.3286 - acc: 0.4829\n",
      "Epoch 16/50\n",
      "60000/60000 [==============================] - 7s 120us/step - loss: 8.2946 - acc: 0.4851 2 - ETA: 1s - los\n",
      "Epoch 17/50\n",
      "60000/60000 [==============================] - 8s 128us/step - loss: 8.3234 - acc: 0.4834\n",
      "Epoch 18/50\n",
      "60000/60000 [==============================] - 9s 146us/step - loss: 8.3416 - acc: 0.4822\n",
      "Epoch 19/50\n",
      "60000/60000 [==============================] - 8s 130us/step - loss: 8.3056 - acc: 0.4845\n",
      "Epoch 20/50\n",
      "60000/60000 [==============================] - 8s 139us/step - loss: 8.3487 - acc: 0.4817\n",
      "Epoch 21/50\n",
      "60000/60000 [==============================] - 8s 139us/step - loss: 8.2849 - acc: 0.4858\n",
      "Epoch 22/50\n",
      "60000/60000 [==============================] - 8s 139us/step - loss: 8.2967 - acc: 0.4851\n",
      "Epoch 23/50\n",
      "60000/60000 [==============================] - 8s 137us/step - loss: 8.2772 - acc: 0.4863\n",
      "Epoch 24/50\n",
      "60000/60000 [==============================] - 8s 137us/step - loss: 8.2346 - acc: 0.4889\n",
      "Epoch 25/50\n",
      "60000/60000 [==============================] - 7s 122us/step - loss: 8.2446 - acc: 0.4883\n",
      "Epoch 26/50\n",
      "60000/60000 [==============================] - 8s 125us/step - loss: 8.2289 - acc: 0.4893\n",
      "Epoch 27/50\n",
      "60000/60000 [==============================] - 8s 125us/step - loss: 8.2591 - acc: 0.4874\n",
      "Epoch 28/50\n",
      "60000/60000 [==============================] - 8s 127us/step - loss: 8.2145 - acc: 0.4902 7s - loss: 8.2204  - \n",
      "Epoch 29/50\n",
      "60000/60000 [==============================] - 7s 120us/step - loss: 8.1993 - acc: 0.4911\n",
      "Epoch 30/50\n",
      "60000/60000 [==============================] - 8s 128us/step - loss: 8.1892 - acc: 0.4918\n",
      "Epoch 31/50\n",
      "60000/60000 [==============================] - 7s 109us/step - loss: 8.2195 - acc: 0.4898\n",
      "Epoch 32/50\n",
      "60000/60000 [==============================] - 7s 118us/step - loss: 8.1984 - acc: 0.4911\n",
      "Epoch 33/50\n",
      "60000/60000 [==============================] - 8s 138us/step - loss: 8.2053 - acc: 0.4908\n",
      "Epoch 34/50\n",
      "60000/60000 [==============================] - 8s 140us/step - loss: 8.1903 - acc: 0.4917\n",
      "Epoch 35/50\n",
      "60000/60000 [==============================] - 9s 146us/step - loss: 8.1892 - acc: 0.4918\n",
      "Epoch 36/50\n",
      "60000/60000 [==============================] - 7s 116us/step - loss: 8.2303 - acc: 0.4892\n",
      "Epoch 37/50\n",
      "60000/60000 [==============================] - 7s 114us/step - loss: 8.2136 - acc: 0.4902\n",
      "Epoch 38/50\n",
      "60000/60000 [==============================] - 8s 131us/step - loss: 8.2071 - acc: 0.4906\n",
      "Epoch 39/50\n",
      "60000/60000 [==============================] - 9s 152us/step - loss: 8.1889 - acc: 0.4918 0s - loss: 8.1927 -\n",
      "Epoch 40/50\n",
      "60000/60000 [==============================] - 10s 160us/step - loss: 8.1860 - acc: 0.4920\n",
      "Epoch 41/50\n",
      "60000/60000 [==============================] - 9s 148us/step - loss: 8.1919 - acc: 0.4916\n",
      "Epoch 42/50\n",
      "60000/60000 [==============================] - 9s 152us/step - loss: 8.1736 - acc: 0.4926\n",
      "Epoch 43/50\n",
      "60000/60000 [==============================] - 9s 156us/step - loss: 7.6245 - acc: 0.5263\n",
      "Epoch 44/50\n",
      "60000/60000 [==============================] - 9s 145us/step - loss: 6.9150 - acc: 0.5705 1s - loss: \n",
      "Epoch 45/50\n",
      "60000/60000 [==============================] - 8s 138us/step - loss: 6.9467 - acc: 0.5687\n",
      "Epoch 46/50\n",
      "60000/60000 [==============================] - 8s 141us/step - loss: 6.8583 - acc: 0.5740\n",
      "Epoch 47/50\n",
      "60000/60000 [==============================] - 7s 120us/step - loss: 6.8403 - acc: 0.5752\n",
      "Epoch 48/50\n",
      "60000/60000 [==============================] - ETA: 0s - loss: 6.8335 - acc: 0.575 - 7s 117us/step - loss: 6.8325 - acc: 0.5758\n",
      "Epoch 49/50\n",
      "60000/60000 [==============================] - 7s 119us/step - loss: 6.8190 - acc: 0.5766 1s - \n",
      "Epoch 50/50\n",
      "60000/60000 [==============================] - 7s 118us/step - loss: 6.8267 - acc: 0.5761\n",
      "10000/10000 [==============================] - 1s 87us/step\n",
      "test_acc: 0.5808\n"
     ]
    }
   ],
   "source": [
    "from keras.datasets import mnist\n",
    "from keras import models\n",
    "from keras import layers\n",
    "from keras.utils import to_categorical\n",
    "\n",
    "(train_images, train_labels), (test_images, test_labels) = mnist.load_data()\n",
    "network = models.Sequential()\n",
    "network.add(layers.Dense(512, activation='relu', input_shape=(28*28,)))\n",
    "network.add(layers.Dense(10, activation='softmax'))\n",
    "\n",
    "network.compile(optimizer = 'rmsprop',\n",
    "               loss = 'categorical_crossentropy',\n",
    "               metrics = ['accuracy'])\n",
    "\n",
    "train_images = train_images.reshape((60000, 28*28))\n",
    "train_images.astype('float32') / 255\n",
    "\n",
    "test_images = test_images.reshape((10000, 28*28))\n",
    "test_images = test_images.astype('float32') / 255\n",
    "\n",
    "\n",
    "train_labels = to_categorical(train_labels)\n",
    "test_labels = to_categorical(test_labels)\n",
    "\n",
    "network.fit(train_images, train_labels, epochs = 50, batch_size = 128)\n",
    "test_loss, test_acc = network.evaluate(test_images, test_labels)\n",
    "print('test_acc:', test_acc)"
   ]
  },
  {
   "cell_type": "code",
   "execution_count": null,
   "metadata": {},
   "outputs": [],
   "source": []
  }
 ],
 "metadata": {
  "kernelspec": {
   "display_name": "Python 3",
   "language": "python",
   "name": "python3"
  },
  "language_info": {
   "codemirror_mode": {
    "name": "ipython",
    "version": 3
   },
   "file_extension": ".py",
   "mimetype": "text/x-python",
   "name": "python",
   "nbconvert_exporter": "python",
   "pygments_lexer": "ipython3",
   "version": "3.6.9"
  }
 },
 "nbformat": 4,
 "nbformat_minor": 4
}
